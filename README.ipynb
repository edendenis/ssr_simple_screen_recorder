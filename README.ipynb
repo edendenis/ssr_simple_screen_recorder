{
 "cells": [
  {
   "cell_type": "markdown",
   "metadata": {},
   "source": [
    "# Como configurar/instalar/usar o `simplescreenrecorder` no `Linux Ubuntu`\n",
    "\n",
    "## Resumo\n",
    "\n",
    "Neste documento estão contidos os principais comandos e configurações para configurar/instalar/usar o `simplescreenrecorder` no `Linux Ubuntu`.\n",
    "\n",
    "## _Abstract_\n",
    "\n",
    "_In this document are contained the main commands and settings to set up/install the `simplescreenrecorder` on `Linux Ubuntu`._\n"
   ]
  },
  {
   "cell_type": "markdown",
   "metadata": {},
   "source": [
    "## Descrição [2]\n",
    "\n",
    "### `simplescreenrecorder` (SSR)\n",
    "\n",
    "O `SimpleScreenRecorder` (SSR) é uma ferramenta de código aberto projetada para capturar e gravar vídeos da tela do computador de forma simples e eficiente. Com uma interface intuitiva, permite aos usuários selecionar áreas específicas da tela, ajustar configurações de qualidade e áudio, além de oferecer opções avançadas de codec para produzir vídeos de alta qualidade. Essa aplicação é amplamente utilizada para criar tutoriais, demonstrações de software e vídeos educacionais.\n"
   ]
  },
  {
   "cell_type": "markdown",
   "metadata": {},
   "source": [
    "## 1. Como configurar/instalar/usar o `simplescreenrecorder` no `Linux Ubuntu` [1]\n",
    "\n",
    "Para configurar/instalar/usar o `simplescreenrecorder` no `Linux Ubuntu`, você pode seguir estes passos:\n",
    "\n",
    "1. Abra o `Terminal Emulator`. Você pode fazer isso pressionando: `Ctrl + Alt + T`"
   ]
  },
  {
   "cell_type": "markdown",
   "metadata": {},
   "source": [
    "2. Certifique-se de que seu sistema esteja limpo e atualizado.\n",
    "\n",
    "    2.1 Limpar o `cache` do gerenciador de pacotes APT. Especificamente, ele remove todos os arquivos de pacotes (`.deb`) baixados pelo APT e armazenados em `/var/cache/apt/archives/`. Digite o seguinte comando: `sudo apt clean` \n",
    "    \n",
    "    2.2 Remover pacotes `.deb` antigos ou duplicados do cache local. É útil para liberar espaço, pois remove apenas os pacotes que não podem mais ser baixados (ou seja, versões antigas de pacotes que foram atualizados). Digite o seguinte comando: `sudo apt autoclean`\n",
    "\n",
    "    2.3 Remover pacotes que foram automaticamente instalados para satisfazer as dependências de outros pacotes e que não são mais necessários. Digite o seguinte comando: `sudo apt autoremove -y`\n",
    "\n",
    "    2.4 Buscar as atualizações disponíveis para os pacotes que estão instalados em seu sistema. Digite o seguinte comando e pressione `Enter`: `sudo apt update -y`\n",
    "\n",
    "    2.5 Para ver a lista de pacotes a serem atualizados, digite o seguinte comando e pressione `Enter`:  `sudo apt list --upgradable`\n",
    "\n",
    "    2.6 Realmente atualizar os pacotes instalados para as suas versões mais recentes, com base na última vez que você executou `sudo apt update -y`. Digite o seguinte comando e pressione `Enter`: `sudo apt full-upgrade -y`\n",
    "\n",
    "    2.7 Remover pacotes que foram automaticamente instalados para satisfazer as dependências de outros pacotes e que não são mais necessários. Digite o seguinte comando: `sudo apt autoremove -y`\n",
    "\n",
    "    2.8 Remover pacotes `.deb` antigos ou duplicados do cache local. É útil para liberar espaço, pois remove apenas os pacotes que não podem mais ser baixados (ou seja, versões antigas de pacotes que foram atualizados). Digite o seguinte comando: `sudo apt autoclean`"
   ]
  },
  {
   "cell_type": "markdown",
   "metadata": {},
   "source": [
    "## 1.2 Usar o `simplescreenrecorder`\n",
    "\n",
    "Para instalar o simplescreenrecorder no Linux Ubuntu, você pode seguir os seguintes passos:\n",
    "\n",
    "1. **Instale o simplescreenrecorder:** Agora você pode instalar o simplescreenrecorder usando o seguinte comando: `sudo apt install simplescreenrecorder -y`\n",
    "\n",
    "    3.1 Se você estiver usando uma versão de 64 bits do Ubuntu e quiser gravar jogos de 32 bits, também é recomendável instalar o pacote de suporte para 32 bits: `sudo apt install simplescreenrecorder-lib:i386 -y`\n",
    "\n",
    "2. **Inicie o simplescreenrecorder:** Após a instalação, você pode iniciar o `simplescreenrecorder` a partir do seu menu de aplicações ou executando `simplescreenrecorder` no terminal.\n",
    "\n",
    "Lembre-se de que é sempre bom garantir que seu sistema esteja atualizado e que você esteja instalando software de fontes confiáveis para manter a segurança e estabilidade do sistema."
   ]
  },
  {
   "cell_type": "markdown",
   "metadata": {
    "vscode": {
     "languageId": "plaintext"
    }
   },
   "source": [
    "## 2. Código completo para configurar/instalar/usar\n",
    "\n",
    "Para configurar/instalar/usar o `simplescreenrecorder` no `Linux Ubuntu`sem precisar digitar linha por linha, você pode seguir estas etapas:\n",
    "\n",
    "1. Abra o `Terminal Emulator`. Você pode fazer isso pressionando: `Ctrl + Alt + T`\n",
    "\n",
    "2. Digite o seguinte comando e pressione `Enter`:\n",
    "\n",
    "    ```\n",
    "    sudo apt clean\n",
    "    sudo apt autoclean\n",
    "    sudo apt autoremove\n",
    "    sudo apt update -y\n",
    "    sudo apt autoclean\n",
    "    sudo apt list --upgradable\n",
    "    sudo apt full-upgrade -y\n",
    "    sudo apt install simplescreenrecorder -y\n",
    "    simplescreenrecorder\n",
    "    ```\n"
   ]
  },
  {
   "cell_type": "markdown",
   "metadata": {
    "vscode": {
     "languageId": "plaintext"
    }
   },
   "source": [
    "## Referências\n",
    "\n",
    "[3] OPENAI. ***Instalar simplescreenrecorder no Ubuntu.***. Disponível em: <https://chat.openai.com/c/e2b2dca9-50dc-42f5-93b6-e4b91f70d5cc> (texto adaptado). Acessado em: 06/03/2024 13:47.\n",
    "\n",
    "[2] OPENAI. ***Vs code: editor popular.*** Disponível em: <https://chat.openai.com/c/b640a25d-f8e3-4922-8a3b-ed74a2657e42> (texto adaptado). Acessado em: 06/03/2024 13:48.\n",
    "\n"
   ]
  }
 ],
 "metadata": {
  "kernelspec": {
   "display_name": "Python 3",
   "language": "python",
   "name": "python3"
  },
  "language_info": {
   "codemirror_mode": {
    "name": "ipython",
    "version": 3
   },
   "file_extension": ".py",
   "mimetype": "text/x-python",
   "name": "python",
   "nbconvert_exporter": "python",
   "pygments_lexer": "ipython3",
   "version": "3.11.5"
  },
  "orig_nbformat": 4
 },
 "nbformat": 4,
 "nbformat_minor": 2
}
